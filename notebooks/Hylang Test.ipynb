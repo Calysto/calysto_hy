{
 "cells": [
  {
   "cell_type": "markdown",
   "metadata": {
    "toc": "true"
   },
   "source": [
    "# Table of Contents\n",
    " <p><div class=\"lev1\"><a href=\"#Lists\" data-vivaldi-spatnav-clickable=\"1\"><span class=\"toc-item-num\">1&nbsp;&nbsp;</span>Lists</a></div><div class=\"lev1\"><a href=\"#Tuples\" data-vivaldi-spatnav-clickable=\"1\"><span class=\"toc-item-num\">2&nbsp;&nbsp;</span>Tuples</a></div><div class=\"lev1\"><a href=\"#List-Comprehensions\" data-vivaldi-spatnav-clickable=\"1\"><span class=\"toc-item-num\">3&nbsp;&nbsp;</span>List Comprehensions</a></div><div class=\"lev1\"><a href=\"#Keyword-Arguments\" data-vivaldi-spatnav-clickable=\"1\"><span class=\"toc-item-num\">4&nbsp;&nbsp;</span>Keyword Arguments</a></div><div class=\"lev1\"><a href=\"#OOP\" data-vivaldi-spatnav-clickable=\"1\"><span class=\"toc-item-num\">5&nbsp;&nbsp;</span>OOP</a></div>"
   ]
  },
  {
   "cell_type": "code",
   "execution_count": 45,
   "metadata": {
    "ExecuteTime": {
     "end_time": "2016-09-20T22:44:25.416746",
     "start_time": "2016-09-20T22:44:25.413567"
    },
    "run_control": {
     "frozen": false,
     "read_only": false
    }
   },
   "outputs": [
    {
     "name": "stdout",
     "output_type": "stream",
     "text": [
      "Hello World!\n"
     ]
    },
    {
     "data": {
      "text/plain": [
       "[None]"
      ]
     },
     "execution_count": 45,
     "metadata": {},
     "output_type": "execute_result"
    }
   ],
   "source": [
    "(print \"Hello World!\")"
   ]
  },
  {
   "cell_type": "code",
   "execution_count": 2,
   "metadata": {
    "ExecuteTime": {
     "end_time": "2016-09-20T22:44:25.864099",
     "start_time": "2016-09-20T22:44:25.861165"
    },
    "run_control": {
     "frozen": false,
     "read_only": false
    }
   },
   "outputs": [
    {
     "data": {
      "text/plain": [
       "[3]"
      ]
     },
     "execution_count": 2,
     "metadata": {},
     "output_type": "execute_result"
    }
   ],
   "source": [
    "(+ 1 1 1)"
   ]
  },
  {
   "cell_type": "code",
   "execution_count": 3,
   "metadata": {
    "ExecuteTime": {
     "end_time": "2016-09-20T22:44:26.384329",
     "start_time": "2016-09-20T22:44:26.379026"
    },
    "run_control": {
     "frozen": false,
     "read_only": false
    }
   },
   "outputs": [
    {
     "name": "stdout",
     "output_type": "stream",
     "text": [
      "38.0\n"
     ]
    },
    {
     "data": {
      "text/plain": [
       "[None, None]"
      ]
     },
     "execution_count": 3,
     "metadata": {},
     "output_type": "execute_result"
    }
   ],
   "source": [
    "(setv result (- (/ (+ 1 3 88) 2) 8))\n",
    "(print result)"
   ]
  },
  {
   "cell_type": "code",
   "execution_count": 4,
   "metadata": {
    "ExecuteTime": {
     "end_time": "2016-09-20T22:44:26.956302",
     "start_time": "2016-09-20T22:44:26.949328"
    },
    "run_control": {
     "frozen": false,
     "read_only": false
    }
   },
   "outputs": [
    {
     "name": "stdout",
     "output_type": "stream",
     "text": [
      "What is your name? hello\n",
      "What is your age? 12\n",
      "Hello hello!  I see you are 12 years old.\n"
     ]
    },
    {
     "data": {
      "text/plain": [
       "[None, None, None]"
      ]
     },
     "execution_count": 4,
     "metadata": {},
     "output_type": "execute_result"
    }
   ],
   "source": [
    "(setv name (input \"What is your name? \"))\n",
    "(setv age (input \"What is your age? \"))\n",
    "(print (+ \"Hello \" name \"!  I see you are \" age \" years old.\"))"
   ]
  },
  {
   "cell_type": "code",
   "execution_count": 5,
   "metadata": {
    "ExecuteTime": {
     "end_time": "2016-09-20T22:44:40.640125",
     "start_time": "2016-09-20T22:44:40.636601"
    },
    "run_control": {
     "frozen": false,
     "read_only": false
    }
   },
   "outputs": [
    {
     "data": {
      "text/plain": [
       "[0.5]"
      ]
     },
     "execution_count": 5,
     "metadata": {},
     "output_type": "execute_result"
    }
   ],
   "source": [
    "(/ 1 2)"
   ]
  },
  {
   "cell_type": "code",
   "execution_count": 6,
   "metadata": {
    "ExecuteTime": {
     "end_time": "2016-09-20T22:44:41.304670",
     "start_time": "2016-09-20T22:44:41.296734"
    },
    "run_control": {
     "frozen": false,
     "read_only": false
    }
   },
   "outputs": [
    {
     "name": "stdout",
     "output_type": "stream",
     "text": [
      "<class 'list'>\n",
      "<class 'hy.models.HyExpression'>\n"
     ]
    },
    {
     "data": {
      "text/plain": [
       "[None, None]"
      ]
     },
     "execution_count": 6,
     "metadata": {},
     "output_type": "execute_result"
    }
   ],
   "source": [
    "(print (type [\"a\" \"b\" 1 \"2\"]))\n",
    "(print (type '(\"a\" \"b\" 1 \"2\")))"
   ]
  },
  {
   "cell_type": "code",
   "execution_count": 7,
   "metadata": {
    "ExecuteTime": {
     "end_time": "2016-09-20T22:44:57.292469",
     "start_time": "2016-09-20T22:44:57.287175"
    },
    "run_control": {
     "frozen": false,
     "read_only": false
    }
   },
   "outputs": [
    {
     "name": "stdout",
     "output_type": "stream",
     "text": [
      "this is if true\n"
     ]
    },
    {
     "data": {
      "text/plain": [
       "[None]"
      ]
     },
     "execution_count": 7,
     "metadata": {},
     "output_type": "execute_result"
    }
   ],
   "source": [
    "(if (= 1 1)\n",
    "  (print \"this is if true\")\n",
    "  (print \"this is if false\"))"
   ]
  },
  {
   "cell_type": "code",
   "execution_count": 9,
   "metadata": {
    "ExecuteTime": {
     "end_time": "2016-09-20T22:44:58.030079",
     "start_time": "2016-09-20T22:44:58.023981"
    },
    "run_control": {
     "frozen": false,
     "read_only": false
    }
   },
   "outputs": [
    {
     "name": "stdout",
     "output_type": "stream",
     "text": [
      "That variable is jussssst right!\n"
     ]
    },
    {
     "data": {
      "text/plain": [
       "[None, None]"
      ]
     },
     "execution_count": 9,
     "metadata": {},
     "output_type": "execute_result"
    }
   ],
   "source": [
    "(setv somevar 33)\n",
    "(cond\n",
    " [(> somevar 50)\n",
    "  (print \"That variable is too big!\")]\n",
    " [(< somevar 10)\n",
    "  (print \"That variable is too small!\")]\n",
    " [True\n",
    "  (print \"That variable is jussssst right!\")])"
   ]
  },
  {
   "cell_type": "code",
   "execution_count": 11,
   "metadata": {
    "ExecuteTime": {
     "end_time": "2016-09-20T22:44:58.725717",
     "start_time": "2016-09-20T22:44:58.719791"
    },
    "run_control": {
     "frozen": false,
     "read_only": false
    }
   },
   "outputs": [
    {
     "name": "stdout",
     "output_type": "stream",
     "text": [
      "That variable is jussssst right!\n"
     ]
    },
    {
     "data": {
      "text/plain": [
       "[None, None]"
      ]
     },
     "execution_count": 11,
     "metadata": {},
     "output_type": "execute_result"
    }
   ],
   "source": [
    "(setv somevar 33)\n",
    "(cond\n",
    " [(> somevar 50) (print \"That variable is too big!\")]\n",
    " [(< somevar 10) (print \"That variable is too small!\")]\n",
    " [True (print \"That variable is jussssst right!\")])"
   ]
  },
  {
   "cell_type": "code",
   "execution_count": 12,
   "metadata": {
    "ExecuteTime": {
     "end_time": "2016-09-20T22:45:04.164458",
     "start_time": "2016-09-20T22:45:04.158776"
    },
    "run_control": {
     "frozen": false,
     "read_only": false
    }
   },
   "outputs": [
    {
     "name": "stdout",
     "output_type": "stream",
     "text": [
      "this is if true\n",
      "and why not, let's keep talking about how true it is!\n"
     ]
    },
    {
     "data": {
      "text/plain": [
       "[None]"
      ]
     },
     "execution_count": 12,
     "metadata": {},
     "output_type": "execute_result"
    }
   ],
   "source": [
    "; COMMENT\n",
    "(if (= 1 1)\n",
    "  (do\n",
    "    (print \"this is if true\")\n",
    "    (print \"and why not, let's keep talking about how true it is!\"))\n",
    "  (print \"this one's still simply just false\"))"
   ]
  },
  {
   "cell_type": "code",
   "execution_count": 13,
   "metadata": {
    "ExecuteTime": {
     "end_time": "2016-09-20T22:45:05.297364",
     "start_time": "2016-09-20T22:45:05.283080"
    },
    "run_control": {
     "frozen": false,
     "read_only": false
    },
    "scrolled": true
   },
   "outputs": [
    {
     "name": "stdout",
     "output_type": "stream",
     "text": [
      "'i' is now at 0\n",
      "'i' is now at 1\n",
      "'i' is now at 2\n",
      "'i' is now at 3\n",
      "'i' is now at 4\n",
      "'i' is now at 5\n",
      "'i' is now at 6\n",
      "'i' is now at 7\n",
      "'i' is now at 8\n",
      "'i' is now at 9\n"
     ]
    },
    {
     "data": {
      "text/plain": [
       "[None]"
      ]
     },
     "execution_count": 13,
     "metadata": {},
     "output_type": "execute_result"
    }
   ],
   "source": [
    "(for [i (range 10)]\n",
    "  (print (+ \"'i' is now at \" (str i))))"
   ]
  },
  {
   "cell_type": "code",
   "execution_count": 16,
   "metadata": {
    "ExecuteTime": {
     "end_time": "2016-09-20T22:45:13.662642",
     "start_time": "2016-09-20T22:45:13.658043"
    },
    "run_control": {
     "frozen": false,
     "read_only": false
    }
   },
   "outputs": [
    {
     "name": "stdout",
     "output_type": "stream",
     "text": [
      "hello!\n"
     ]
    },
    {
     "data": {
      "text/plain": [
       "[6, None]"
      ]
     },
     "execution_count": 16,
     "metadata": {},
     "output_type": "execute_result"
    }
   ],
   "source": [
    "(with [f (open \"/tmp/data.in\" \"w\")]\n",
    "  (.write f \"hello!\"))\n",
    "(with [f (open \"/tmp/data.in\")]\n",
    "  (print (.read f)))"
   ]
  },
  {
   "cell_type": "code",
   "execution_count": 17,
   "metadata": {
    "ExecuteTime": {
     "end_time": "2016-09-20T22:45:23.680044",
     "start_time": "2016-09-20T22:45:23.674696"
    },
    "run_control": {
     "frozen": false,
     "read_only": false
    }
   },
   "outputs": [
    {
     "name": "stdout",
     "output_type": "stream",
     "text": [
      "Hey, that path isn't there!\n"
     ]
    },
    {
     "data": {
      "text/plain": [
       "[None, None]"
      ]
     },
     "execution_count": 17,
     "metadata": {},
     "output_type": "execute_result"
    }
   ],
   "source": [
    "(import os)\n",
    "(if (os.path.isdir \"/tmp/somedir\")\n",
    "  (os.mkdir \"/tmp/somedir/anotherdir\")\n",
    "  (print \"Hey, that path isn't there!\"))"
   ]
  },
  {
   "cell_type": "code",
   "execution_count": 28,
   "metadata": {
    "ExecuteTime": {
     "end_time": "2016-09-20T22:45:24.235706",
     "start_time": "2016-09-20T22:45:24.229939"
    },
    "run_control": {
     "frozen": false,
     "read_only": false
    }
   },
   "outputs": [
    {
     "name": "stdout",
     "output_type": "stream",
     "text": [
      "[1, 9, 25, 49, 81, 121, 169, 225, 289, 361, 441, 529, 625, 729, 841, 961, 1089, 1225, 1369, 1521, 1681, 1849, 2025, 2209, 2401, 2601, 2809, 3025, 3249, 3481, 3721, 3969, 4225, 4489, 4761, 5041, 5329, 5625, 5929, 6241, 6561, 6889, 7225, 7569, 7921, 8281, 8649, 9025, 9409, 9801]\n"
     ]
    },
    {
     "data": {
      "text/plain": [
       "[None, None]"
      ]
     },
     "execution_count": 28,
     "metadata": {},
     "output_type": "execute_result"
    }
   ],
   "source": [
    "(setv odds-squared\n",
    "  (lfor\n",
    "    num (range 100)\n",
    "    :if (= (% num 2) 1)\n",
    "    (pow num 2)\n",
    "   )\n",
    ")\n",
    "(print odds-squared)"
   ]
  },
  {
   "cell_type": "markdown",
   "metadata": {},
   "source": [
    "# Lists"
   ]
  },
  {
   "cell_type": "markdown",
   "metadata": {},
   "source": [
    "# Tuples"
   ]
  },
  {
   "cell_type": "code",
   "execution_count": 20,
   "metadata": {
    "ExecuteTime": {
     "end_time": "2016-09-20T22:47:43.255487",
     "start_time": "2016-09-20T22:47:43.251297"
    },
    "run_control": {
     "frozen": false,
     "read_only": false
    }
   },
   "outputs": [
    {
     "data": {
      "text/plain": [
       "[<class 'tuple'>]"
      ]
     },
     "execution_count": 20,
     "metadata": {},
     "output_type": "execute_result"
    }
   ],
   "source": [
    "(type (, 1 2 3))"
   ]
  },
  {
   "cell_type": "markdown",
   "metadata": {},
   "source": [
    "# List Comprehensions"
   ]
  },
  {
   "cell_type": "code",
   "execution_count": 29,
   "metadata": {
    "ExecuteTime": {
     "end_time": "2016-09-20T22:47:45.618443",
     "start_time": "2016-09-20T22:47:45.613623"
    },
    "run_control": {
     "frozen": false,
     "read_only": false
    },
    "scrolled": true
   },
   "outputs": [
    {
     "data": {
      "text/plain": [
       "[[(0, 'A'), (0, 'B'), (0, 'C'), (0, 'D'), (0, 'E'), (0, 'F'), (0, 'G'), (0, 'H'), (1, 'A'), (1, 'B'), (1, 'C'), (1, 'D'), (1, 'E'), (1, 'F'), (1, 'G'), (1, 'H'), (2, 'A'), (2, 'B'), (2, 'C'), (2, 'D'), (2, 'E'), (2, 'F'), (2, 'G'), (2, 'H'), (3, 'A'), (3, 'B'), (3, 'C'), (3, 'D'), (3, 'E'), (3, 'F'), (3, 'G'), (3, 'H'), (4, 'A'), (4, 'B'), (4, 'C'), (4, 'D'), (4, 'E'), (4, 'F'), (4, 'G'), (4, 'H'), (5, 'A'), (5, 'B'), (5, 'C'), (5, 'D'), (5, 'E'), (5, 'F'), (5, 'G'), (5, 'H'), (6, 'A'), (6, 'B'), (6, 'C'), (6, 'D'), (6, 'E'), (6, 'F'), (6, 'G'), (6, 'H'), (7, 'A'), (7, 'B'), (7, 'C'), (7, 'D'), (7, 'E'), (7, 'F'), (7, 'G'), (7, 'H')]]"
      ]
     },
     "execution_count": 29,
     "metadata": {},
     "output_type": "execute_result"
    }
   ],
   "source": [
    "(lfor\n",
    "  x (range 8)\n",
    "  y \"ABCDEFGH\"\n",
    " (, x y)\n",
    ")\n"
   ]
  },
  {
   "cell_type": "markdown",
   "metadata": {},
   "source": [
    "# Keyword Arguments"
   ]
  },
  {
   "cell_type": "code",
   "execution_count": 30,
   "metadata": {
    "ExecuteTime": {
     "end_time": "2016-09-20T22:47:48.115009",
     "start_time": "2016-09-20T22:47:48.098786"
    },
    "run_control": {
     "frozen": false,
     "read_only": false
    },
    "scrolled": false
   },
   "outputs": [
    {
     "name": "stdout",
     "output_type": "stream",
     "text": [
      "[1, 2, 3, 4]\n",
      "[1, 2, 3, 42]\n",
      "[1, 2, None, 4]\n",
      "[1, 2, None, 42]\n"
     ]
    },
    {
     "data": {
      "text/plain": [
       "[None, None, None, None, None]"
      ]
     },
     "execution_count": 30,
     "metadata": {},
     "output_type": "execute_result"
    }
   ],
   "source": [
    "(defn optional-arg\n",
    "  [pos1 pos2 &optional keyword1 [keyword2 42]]\n",
    "  [pos1 pos2 keyword1 keyword2])\n",
    "(print (optional-arg 1 2 3 4))\n",
    "(print (optional-arg 1 2 3))\n",
    "(print (optional-arg 1 2 None 4))\n",
    "(print (optional-arg 1 2))"
   ]
  },
  {
   "cell_type": "code",
   "execution_count": 32,
   "metadata": {
    "ExecuteTime": {
     "end_time": "2016-09-20T22:47:48.689680",
     "start_time": "2016-09-20T22:47:48.683599"
    },
    "run_control": {
     "frozen": false,
     "read_only": false
    }
   },
   "outputs": [
    {
     "data": {
      "text/plain": [
       "[None, None, [[1, 2], {'keyword2': 3, 'keyword1': 4}, None, 42]]"
      ]
     },
     "execution_count": 32,
     "metadata": {},
     "output_type": "execute_result"
    }
   ],
   "source": [
    "(setv args [1 2])\n",
    "(setv kwargs {\"keyword2\" 3 \"keyword1\" 4})\n",
    "(optional-arg args kwargs)"
   ]
  },
  {
   "cell_type": "code",
   "execution_count": 33,
   "metadata": {
    "ExecuteTime": {
     "end_time": "2016-09-20T22:47:49.189602",
     "start_time": "2016-09-20T22:47:49.183920"
    },
    "run_control": {
     "frozen": false,
     "read_only": false
    }
   },
   "outputs": [
    {
     "name": "stderr",
     "output_type": "stream",
     "text": [
      "\u001b[0;31mTraceback (most recent call last):\n",
      "  File \"/home/dblank/.local/lib/python3.6/site-packages/funcparserlib/parser.py\", line 121, in parse\n",
      "    (tree, _) = self.run(tokens, State())\n",
      "  File \"/home/dblank/.local/lib/python3.6/site-packages/funcparserlib/parser.py\", line 158, in _add\n",
      "    (v2, s3) = other.run(tokens, s2)\n",
      "  File \"/home/dblank/.local/lib/python3.6/site-packages/funcparserlib/parser.py\", line 199, in _shift\n",
      "    (v, s2) = self.run(tokens, s)\n",
      "  File \"/home/dblank/.local/lib/python3.6/site-packages/funcparserlib/parser.py\", line 272, in finished\n",
      "    raise NoParseError('should have reached <EOF>', s)\n",
      "funcparserlib.parser.NoParseError: should have reached <EOF>\n",
      "\n",
      "During handling of the above exception, another exception occurred:\n",
      "\n",
      "Traceback (most recent call last):\n",
      "  File \"/home/dblank/.local/lib/python3.6/site-packages/funcparserlib/parser.py\", line 121, in parse\n",
      "    (tree, _) = self.run(tokens, State())\n",
      "  File \"/home/dblank/.local/lib/python3.6/site-packages/funcparserlib/parser.py\", line 157, in _add\n",
      "    (v1, s2) = self.run(tokens, s)\n",
      "  File \"/home/dblank/.local/lib/python3.6/site-packages/funcparserlib/parser.py\", line 157, in _add\n",
      "    (v1, s2) = self.run(tokens, s)\n",
      "  File \"/home/dblank/.local/lib/python3.6/site-packages/funcparserlib/parser.py\", line 200, in _shift\n",
      "    return f(v), s2\n",
      "  File \"/home/dblank/.local/lib/python3.6/site-packages/hy/model_patterns.py\", line 37, in <lambda>\n",
      "    (lambda x: group_type(whole(parsers).parse(x)).replace(x, recursive=False)))\n",
      "  File \"/home/dblank/.local/lib/python3.6/site-packages/funcparserlib/parser.py\", line 129, in parse\n",
      "    raise NoParseError('%s: %s' % (e.msg, tok), e.state)\n",
      "funcparserlib.parser.NoParseError: should have reached <EOF>: HyDict([\n",
      "  HyString('key1'), HyString('val1'),\n",
      "  HyString('key2'), HyString('val2')])\n",
      "\n",
      "During handling of the above exception, another exception occurred:\n",
      "\n",
      "Traceback (most recent call last):\n",
      "  File \"/home/dblank/.local/lib/python3.6/site-packages/hy/compiler.py\", line 1580, in compile_expression\n",
      "    parse_tree = pattern.parse(expression[1:])\n",
      "  File \"/home/dblank/.local/lib/python3.6/site-packages/funcparserlib/parser.py\", line 129, in parse\n",
      "    raise NoParseError('%s: %s' % (e.msg, tok), e.state)\n",
      "funcparserlib.parser.NoParseError: should have reached <EOF>: HyDict([\n",
      "  HyString('key1'), HyString('val1'),\n",
      "  HyString('key2'), HyString('val2')]): HyList([\n",
      "  HySymbol('key1'),\n",
      "  HySymbol('key2')])\n",
      "\n",
      "During handling of the above exception, another exception occurred:\n",
      "\n",
      "Traceback (most recent call last):\n",
      "  File \"/home/dblank/.local/lib/python3.6/site-packages/calysto_hy/kernel.py\", line 134, in do_execute_direct\n",
      "    _ast = hy_compile(tokens, '', root=ast.Interactive)\n",
      "  File \"/home/dblank/.local/lib/python3.6/site-packages/hy/compiler.py\", line 1723, in hy_compile\n",
      "    result = compiler.compile(tree)\n",
      "  File \"/home/dblank/.local/lib/python3.6/site-packages/hy/compiler.py\", line 350, in compile\n",
      "    ret = self.compile_atom(tree)\n",
      "  File \"/home/dblank/.local/lib/python3.6/site-packages/hy/compiler.py\", line 344, in compile_atom\n",
      "    return Result() + _model_compilers[type(atom)](self, atom)\n",
      "  File \"/home/dblank/.local/lib/python3.6/site-packages/hy/compiler.py\", line 1699, in compile_list\n",
      "    elts, ret, _ = self._compile_collect(expression)\n",
      "  File \"/home/dblank/.local/lib/python3.6/site-packages/hy/compiler.py\", line 423, in _compile_collect\n",
      "    ret += self.compile(expr)\n",
      "  File \"/home/dblank/.local/lib/python3.6/site-packages/hy/compiler.py\", line 350, in compile\n",
      "    ret = self.compile_atom(tree)\n",
      "  File \"/home/dblank/.local/lib/python3.6/site-packages/hy/compiler.py\", line 344, in compile_atom\n",
      "    return Result() + _model_compilers[type(atom)](self, atom)\n",
      "  File \"/home/dblank/.local/lib/python3.6/site-packages/hy/compiler.py\", line 1588, in compile_expression\n",
      "    self, expression, unmangle(sfn), *parse_tree)\n",
      "  File \"/home/dblank/.local/lib/python3.6/site-packages/hy/compiler.py\", line 1299, in compile_def_expression\n",
      "    result += self._compile_assign(*pair)\n",
      "  File \"/home/dblank/.local/lib/python3.6/site-packages/hy/compiler.py\", line 1311, in _compile_assign\n",
      "    result = self.compile(result)\n",
      "  File \"/home/dblank/.local/lib/python3.6/site-packages/hy/compiler.py\", line 350, in compile\n",
      "    ret = self.compile_atom(tree)\n",
      "  File \"/home/dblank/.local/lib/python3.6/site-packages/hy/compiler.py\", line 344, in compile_atom\n",
      "    return Result() + _model_compilers[type(atom)](self, atom)\n",
      "  File \"/home/dblank/.local/lib/python3.6/site-packages/hy/compiler.py\", line 1586, in compile_expression\n",
      "    e.msg.replace(\"<EOF>\", \"end of form\")))\n",
      "hy.errors.HyTypeError:   File \"None\", line 2, column 3\n",
      "\n",
      "HyTypeError: parse error for special form 'fn*': should have reached end of form: HyDict([\n",
      "  HyString('key1'), HyString('val1'),\n",
      "  HyString('key2'), HyString('val2')]): HyList([\n",
      "  HySymbol('key1'),\n",
      "  HySymbol('key2')])\n",
      "\n",
      "\n",
      "\n",
      "\u001b[0m"
     ]
    }
   ],
   "source": [
    "(defn another-style [&key {\"key1\" \"val1\" \"key2\" \"val2\"}]\n",
    "  [key1 key2])\n",
    "(setv kwargs {\"key1\" 1 \"key2\" 2})\n",
    "(another-style kwargs)"
   ]
  },
  {
   "cell_type": "code",
   "execution_count": 36,
   "metadata": {
    "ExecuteTime": {
     "end_time": "2016-09-20T22:47:55.643519",
     "start_time": "2016-09-20T22:47:55.639898"
    },
    "run_control": {
     "frozen": false,
     "read_only": false
    },
    "scrolled": true
   },
   "outputs": [
    {
     "data": {
      "text/plain": [
       "['3']"
      ]
     },
     "execution_count": 36,
     "metadata": {},
     "output_type": "execute_result"
    }
   ],
   "source": [
    "(->> (+ 1 2) (str))"
   ]
  },
  {
   "cell_type": "markdown",
   "metadata": {},
   "source": [
    "# OOP"
   ]
  },
  {
   "cell_type": "markdown",
   "metadata": {},
   "source": [
    "A class."
   ]
  },
  {
   "cell_type": "code",
   "execution_count": 42,
   "metadata": {
    "ExecuteTime": {
     "end_time": "2016-09-20T22:48:00.615212",
     "start_time": "2016-09-20T22:48:00.609650"
    },
    "run_control": {
     "frozen": false,
     "read_only": false
    }
   },
   "outputs": [
    {
     "name": "stderr",
     "output_type": "stream",
     "text": [
      "\u001b[0;31mTraceback (most recent call last):\n",
      "  File \"/home/dblank/.local/lib/python3.6/site-packages/calysto_hy/kernel.py\", line 137, in do_execute_direct\n",
      "    eval(code, self.env)\n",
      "  File \"In [42]\", line 1, in <module>\n",
      "  File \"In [42]\", line 3, in FooBar\n",
      "NameError: name '__init__' is not defined\n",
      "\n",
      "\u001b[0m"
     ]
    }
   ],
   "source": [
    "(defclass FooBar [object]\n",
    "  \"Yet Another Example Class\"\n",
    "  [[--init--\n",
    "    (fn [self x]\n",
    "      (setv self.x x)\n",
    "      ; Currently needed for --init-- because __init__ needs None\n",
    "      ; Hopefully this will go away :)\n",
    "      None)]\n",
    "   [get-x\n",
    "    (fn [self]\n",
    "      \"Return our copy of x\"\n",
    "      self.x)]])"
   ]
  },
  {
   "cell_type": "markdown",
   "metadata": {},
   "source": [
    "A class with class variables."
   ]
  },
  {
   "cell_type": "code",
   "execution_count": 43,
   "metadata": {
    "ExecuteTime": {
     "end_time": "2016-09-20T22:48:02.266067",
     "start_time": "2016-09-20T22:48:02.260581"
    },
    "run_control": {
     "frozen": false,
     "read_only": false
    },
    "scrolled": true
   },
   "outputs": [
    {
     "name": "stderr",
     "output_type": "stream",
     "text": [
      "\u001b[0;31mTraceback (most recent call last):\n",
      "  File \"/home/dblank/.local/lib/python3.6/site-packages/calysto_hy/kernel.py\", line 137, in do_execute_direct\n",
      "    eval(code, self.env)\n",
      "  File \"In [43]\", line 1, in <module>\n",
      "NameError: name 'models' is not defined\n",
      "\n",
      "\u001b[0m"
     ]
    }
   ],
   "source": [
    "(defclass Customer [models.Model]\n",
    "  [[name (models.CharField :max-length 255)]\n",
    "   [address (models.TextField)]\n",
    "   [notes (models.TextField)]])"
   ]
  },
  {
   "cell_type": "code",
   "execution_count": 44,
   "metadata": {
    "ExecuteTime": {
     "end_time": "2016-09-20T22:48:04.500362",
     "start_time": "2016-09-20T22:48:04.493001"
    },
    "run_control": {
     "frozen": false,
     "read_only": false
    }
   },
   "outputs": [
    {
     "name": "stdout",
     "output_type": "stream",
     "text": [
      "hello\n",
      "jello\n"
     ]
    },
    {
     "data": {
      "text/plain": [
       "['hello', 'jello']"
      ]
     },
     "execution_count": 44,
     "metadata": {},
     "output_type": "execute_result"
    }
   ],
   "source": [
    "(-> (input) (str))  ; execution from left (inner) to right (outer)\n",
    "(->> (str) (input))  ; execution from right (outer) to left (inner)\n",
    ";"
   ]
  },
  {
   "cell_type": "code",
   "execution_count": null,
   "metadata": {
    "collapsed": true
   },
   "outputs": [],
   "source": []
  }
 ],
 "metadata": {
  "kernelspec": {
   "display_name": "Calysto Hy",
   "language": "hy",
   "name": "calysto_hy"
  },
  "language_info": {
   "codemirror_mode": {
    "name": "scheme"
   },
   "mimetype": "text/x-hylang",
   "name": "hy",
   "pygments_lexer": "lisp"
  },
  "toc": {
   "toc_cell": true,
   "toc_number_sections": true,
   "toc_threshold": "3",
   "toc_window_display": true
  }
 },
 "nbformat": 4,
 "nbformat_minor": 1
}
