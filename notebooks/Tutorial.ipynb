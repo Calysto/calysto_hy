{
 "cells": [
  {
   "cell_type": "markdown",
   "metadata": {},
   "source": [
    "> _Copied from the [hy documentation](http://docs.hylang.org/en/latest/tutorial.html)._"
   ]
  },
  {
   "cell_type": "markdown",
   "metadata": {},
   "source": [
    "# Tutorial"
   ]
  },
  {
   "cell_type": "markdown",
   "metadata": {},
   "source": [
    "<img src=\"http://docs.hylang.org/en/latest/_images/hy-logo-small.png\" style=\"float:right\"/>\n",
    "\n",
    "Welcome to the Hy tutorial!\n",
    "\n",
    "In a nutshell, Hy is a lisp dialect, but one that converts its structure into Python... literally a conversion into Python’s abstract syntax tree! (Or to put it in more crude terms, Hy is lisp-stick on a python!)\n",
    "\n",
    "This is pretty cool because it means Hy is several things:\n",
    "- A lisp that feels very pythonic\n",
    "- For lispers, a great way to use lisp’s crazy powers but in the wide world of Python’s libraries (why yes, you now can write a Django application in lisp!)\n",
    "- For pythonistas, a great way to start exploring lisp, from the comfort of python!\n",
    "- For everyone: a pleasant language that has a lot of neat ideas!"
   ]
  },
  {
   "cell_type": "markdown",
   "metadata": {},
   "source": [
    "## Basic intro to lisp for pythonistas"
   ]
  },
  {
   "cell_type": "markdown",
   "metadata": {},
   "source": [
    "Okay, maybe you’ve never used lisp before, but you’ve used python!\n",
    "\n",
    "A “hello world” in hy is actually super simple. Let’s try it:"
   ]
  },
  {
   "cell_type": "code",
   "execution_count": 6,
   "metadata": {
    "collapsed": false
   },
   "outputs": [
    {
     "name": "stdout",
     "output_type": "stream",
     "text": [
      "hello world\n"
     ]
    }
   ],
   "source": [
    "(print \"hello world\")"
   ]
  },
  {
   "cell_type": "markdown",
   "metadata": {},
   "source": [
    "See? Easy! As you may have guessed, this is the same as the python version of:\n",
    "```python\n",
    "print(\"hello world\")\n",
    "```"
   ]
  },
  {
   "cell_type": "markdown",
   "metadata": {},
   "source": [
    "To add up some super simple math, we could do:"
   ]
  },
  {
   "cell_type": "code",
   "execution_count": 7,
   "metadata": {
    "collapsed": false
   },
   "outputs": [
    {
     "data": {
      "text/plain": [
       "4"
      ]
     },
     "execution_count": 7,
     "metadata": {},
     "output_type": "execute_result"
    }
   ],
   "source": [
    "(+ 1 3)"
   ]
  },
  {
   "cell_type": "markdown",
   "metadata": {},
   "source": [
    "Which would return 4 and would be the equivalent of:\n",
    "```python\n",
    "1 + 3\n",
    "```"
   ]
  },
  {
   "cell_type": "markdown",
   "metadata": {},
   "source": [
    "What you’ll notice is that the first item in the list is the function being called and the rest of the arguments are the arguments being passed in. In fact, in hy (as with most lisps) we can pass in multiple arguments to the plus operator:"
   ]
  },
  {
   "cell_type": "code",
   "execution_count": 8,
   "metadata": {
    "collapsed": false
   },
   "outputs": [
    {
     "data": {
      "text/plain": [
       "59"
      ]
     },
     "execution_count": 8,
     "metadata": {},
     "output_type": "execute_result"
    }
   ],
   "source": [
    "(+ 1 3 55)"
   ]
  },
  {
   "cell_type": "markdown",
   "metadata": {},
   "source": [
    "Which would return 59.\n",
    "\n",
    "Maybe you’ve heard of lisp before but don’t know much about it. Lisp isn’t as hard as you might think, and hy inherits from python, so hy is a great way to start learning lisp. The main thing that’s obvious about lisp is that there’s a lot of parentheses. This might seem confusing at first, but it isn’t so hard. Let’s look at some simple math that’s wrapped in a bunch of parentheses that we could enter into the hy interpreter:"
   ]
  },
  {
   "cell_type": "code",
   "execution_count": 9,
   "metadata": {
    "collapsed": false
   },
   "outputs": [
    {
     "data": {
      "text/plain": [
       "38.0"
      ]
     },
     "execution_count": 9,
     "metadata": {},
     "output_type": "execute_result"
    }
   ],
   "source": [
    "(let [[result (- (/ (+ 1 3 88) 2) 8)]] \n",
    "  result)"
   ]
  },
  {
   "cell_type": "markdown",
   "metadata": {},
   "source": [
    "This would return 38. But why? Well, we could look at the equivalent expression in python:\n",
    "```python\n",
    "result = ((1 + 3 + 88) / 2) - 8\n",
    "```"
   ]
  },
  {
   "cell_type": "markdown",
   "metadata": {},
   "source": [
    "If you were to try to figure out how the above were to work in python, you’d of course figure out the results by solving each inner parenthesis. That’s the same basic idea in hy. Let’s try this exercise first in python:\n",
    "```python\n",
    "result = ((1 + 3 + 88) / 2) - 8\n",
    "# simplified to...\n",
    "result = (92 / 2) - 8\n",
    "# simplified to...\n",
    "result = 46 - 8\n",
    "# simplified to...\n",
    "result = 38\n",
    "```"
   ]
  },
  {
   "cell_type": "markdown",
   "metadata": {},
   "source": [
    "Now let’s try the same thing in hy:"
   ]
  },
  {
   "cell_type": "code",
   "execution_count": 10,
   "metadata": {
    "collapsed": true
   },
   "outputs": [],
   "source": [
    "(setv result (- (/ (+ 1 3 88) 2) 8))\n",
    "; simplified to...\n",
    "(setv result (- (/ 92 2) 8))\n",
    "; simplified to...\n",
    "(setv result (- 46 8))\n",
    "; simplified to...\n",
    "(setv result 38)"
   ]
  },
  {
   "cell_type": "markdown",
   "metadata": {},
   "source": [
    "As you probably guessed, this last expression with “setv” means to assign the variable “result” to 38."
   ]
  },
  {
   "cell_type": "code",
   "execution_count": 11,
   "metadata": {
    "collapsed": false
   },
   "outputs": [
    {
     "data": {
      "text/plain": [
       "38"
      ]
     },
     "execution_count": 11,
     "metadata": {},
     "output_type": "execute_result"
    }
   ],
   "source": [
    "result"
   ]
  },
  {
   "cell_type": "markdown",
   "metadata": {},
   "source": [
    "See? Not too hard!\n",
    "\n",
    "This is the basic premise of lisp... lisp stands for “list processing”... this means that the structure of the program is actually lists of lists. (If you’re familiar with python lists, imagine the entire same structure as above but with square brackets instead, any you’ll be able to see the structure above as both a program and a datastructure.) This is easier to understand with more examples, so let’s write a simple python program and test it and then show the equivalent hy program:\n",
    "```python\n",
    "def simple_conversation():\n",
    "    print \"Hello!  I'd like to get to know you.  Tell me about yourself!\"\n",
    "    name = raw_input(\"What is your name? \")\n",
    "    age = raw_input(\"What is your age? \")\n",
    "    print \"Hello \" + name + \"!  I see you are \" + age + \" years old.\"\n",
    "\n",
    "simple_conversation()\n",
    "```\n",
    "\n",
    "If we ran this program, it might go like:\n",
    "\n",
    "```\n",
    "Hello!  I'd like to get to know you.  Tell me about yourself!\n",
    "What is your name? Gary\n",
    "What is your age? 38\n",
    "Hello Gary!  I see you are 38 years old.\n",
    "```\n",
    "\n",
    "Now let’s look at the equivalent hy program:"
   ]
  },
  {
   "cell_type": "code",
   "execution_count": 12,
   "metadata": {
    "collapsed": false
   },
   "outputs": [
    {
     "name": "stdout",
     "output_type": "stream",
     "text": [
      "Hello!  I'd like to get to know you.  Tell me about yourself!\n",
      "What is your name? hello\n",
      "What is your age? 12\n",
      "Hello hello!  I see you are 12 years old.\n"
     ]
    }
   ],
   "source": [
    "(defn simple-conversation []\n",
    "   (print \"Hello!  I'd like to get to know you.  Tell me about yourself!\")\n",
    "   (setv name (raw_input \"What is your name? \"))\n",
    "   (setv age (raw_input \"What is your age? \"))\n",
    "   (print (+ \"Hello \" name \"!  I see you are \"\n",
    "              age \" years old.\")))\n",
    "\n",
    "(simple-conversation)"
   ]
  },
  {
   "cell_type": "markdown",
   "metadata": {},
   "source": [
    "If you look at the above program, as long as you remember that the first element in each list of the program is the function (or macro... we’ll get to those later) being called and that the rest are the arguments, it’s pretty easy to figure out what this all means. (As you probably also guessed, defn is the hy method of defining methods.)\n",
    "\n",
    "Still, lots of people find this confusing at first because there’s so many parentheses, but there are plenty of things that can help make this easier: keep indentation nice and use an editor with parenthesis matching (this will help you figure out what each parenthesis pairs up with) and things will start to feel comfortable.\n",
    "\n",
    "There are some advantages to having a code structure that’s actually a very simple datastructure as the core of lisp is based on. For one thing, it means that your programs are easy to parse and that the entire actual structure of the program is very clearly exposed to you. (There’s an extra step in hy where the structure you see is converted to python’s own representations... in more “pure” lisps such as common lisp or emacs lisp, the data structure you see for the code and the data structure that is executed is much more literally close.)\n",
    "\n",
    "Another implication of this is macros: if a program’s structure is a simple data structure, that means you can write code that can write code very easily, meaning that implementing entirely new language features can be very fast. Previous to hy, this wasn’t very possible for python programmers... now you too can make use of macros’ incredible power (just be careful to not aim them footward)!"
   ]
  },
  {
   "cell_type": "markdown",
   "metadata": {},
   "source": [
    "## Hy is a Lisp flavored Python"
   ]
  },
  {
   "cell_type": "markdown",
   "metadata": {},
   "source": [
    "Hy converts to Python’s own abstract syntax tree, so you’ll soon start to find that all the familiar power of python is at your fingertips.\n",
    "\n",
    "You have full access to Python’s data types and standard library in Hy. Let’s experiment with this in the hy interpreter:"
   ]
  },
  {
   "cell_type": "code",
   "execution_count": 13,
   "metadata": {
    "collapsed": false
   },
   "outputs": [
    {
     "data": {
      "text/plain": [
       "[1, 2, 3]"
      ]
     },
     "execution_count": 13,
     "metadata": {},
     "output_type": "execute_result"
    }
   ],
   "source": [
    "[1 2 3]"
   ]
  },
  {
   "cell_type": "code",
   "execution_count": 14,
   "metadata": {
    "collapsed": false
   },
   "outputs": [
    {
     "data": {
      "text/plain": [
       "{'dog': 'bark', 'cat': 'meow'}"
      ]
     },
     "execution_count": 14,
     "metadata": {},
     "output_type": "execute_result"
    }
   ],
   "source": [
    "{\"dog\" \"bark\"\n",
    " \"cat\" \"meow\"}"
   ]
  },
  {
   "cell_type": "code",
   "execution_count": 15,
   "metadata": {
    "collapsed": false
   },
   "outputs": [
    {
     "data": {
      "text/plain": [
       "(1, 2, 3)"
      ]
     },
     "execution_count": 15,
     "metadata": {},
     "output_type": "execute_result"
    }
   ],
   "source": [
    "(, 1 2 3)"
   ]
  },
  {
   "cell_type": "markdown",
   "metadata": {},
   "source": [
    "If you are familiar with other lisps, you may be interested that Hy supports the Common Lisp method of quoting:"
   ]
  },
  {
   "cell_type": "code",
   "execution_count": 16,
   "metadata": {
    "collapsed": false
   },
   "outputs": [
    {
     "data": {
      "text/plain": [
       "(1 2 3)"
      ]
     },
     "execution_count": 16,
     "metadata": {},
     "output_type": "execute_result"
    }
   ],
   "source": [
    "'(1 2 3)"
   ]
  },
  {
   "cell_type": "markdown",
   "metadata": {},
   "source": [
    "You also have access to all the builtin types’ nice methods:"
   ]
  },
  {
   "cell_type": "code",
   "execution_count": 17,
   "metadata": {
    "collapsed": false
   },
   "outputs": [
    {
     "data": {
      "text/plain": [
       "'fooooo'"
      ]
     },
     "execution_count": 17,
     "metadata": {},
     "output_type": "execute_result"
    }
   ],
   "source": [
    "(.strip \" fooooo   \")"
   ]
  },
  {
   "cell_type": "markdown",
   "metadata": {},
   "source": [
    "What’s this? Yes indeed, this is precisely the same as:\n",
    "\n",
    "```python\n",
    "\" fooooo   \".strip()\n",
    "```\n",
    "\n",
    "That’s right... lisp with dot notation! If we have this string assigned as a variable, we can also do the following:"
   ]
  },
  {
   "cell_type": "code",
   "execution_count": 18,
   "metadata": {
    "collapsed": false
   },
   "outputs": [
    {
     "data": {
      "text/plain": [
       "'fooooo'"
      ]
     },
     "execution_count": 18,
     "metadata": {},
     "output_type": "execute_result"
    }
   ],
   "source": [
    "(setv this-string \" fooooo   \")\n",
    "(this-string.strip)"
   ]
  },
  {
   "cell_type": "markdown",
   "metadata": {},
   "source": [
    "What about conditionals?:"
   ]
  },
  {
   "cell_type": "code",
   "execution_count": 19,
   "metadata": {
    "collapsed": false
   },
   "outputs": [
    {
     "name": "stderr",
     "output_type": "stream",
     "text": [
      "\u001b[0;31mTraceback (most recent call last):\n",
      "  File \"/home/dblank/calysto_hy/calysto_hy/kernel.py\", line 84, in do_execute_direct\n",
      "    eval(code, self.env)\n",
      "  File \"In [19]\", line 1, in <module>\n",
      "NameError: name 'try_some_thing' is not defined\n",
      "\n",
      "\u001b[0m"
     ]
    }
   ],
   "source": [
    "(if (try-some-thing)\n",
    "  (print \"this is if true\")\n",
    "  (print \"this is if false\"))"
   ]
  },
  {
   "cell_type": "markdown",
   "metadata": {},
   "source": [
    "As you can tell above, the first argument to if is a truth test, the second argument is a body if true, and the third argument (optional!) is if false (ie, “else”!).\n",
    "\n",
    "If you need to do more complex conditionals, you’ll find that you don’t have elif available in hy. Instead, you should use something called “cond”. In python, you might do something like:\n",
    "\n",
    "```python\n",
    "somevar = 33\n",
    "if somevar > 50:\n",
    "    print \"That variable is too big!\"\n",
    "elif somevar < 10:\n",
    "    print \"That variable is too small!\"\n",
    "else:\n",
    "    print \"That variable is jussssst right!\"\n",
    "```\n",
    "\n",
    "In hy, you would do:"
   ]
  },
  {
   "cell_type": "code",
   "execution_count": 20,
   "metadata": {
    "collapsed": false
   },
   "outputs": [
    {
     "name": "stdout",
     "output_type": "stream",
     "text": [
      "That variable is jussssst right!\n"
     ]
    }
   ],
   "source": [
    "(setv somevar 33)\n",
    "(cond\n",
    " [(> somevar 50)\n",
    "  (print \"That variable is too big!\")]\n",
    " [(< somevar 10)\n",
    "  (print \"That variable is too small!\")]\n",
    " [true\n",
    "  (print \"That variable is jussssst right!\")])"
   ]
  },
  {
   "cell_type": "markdown",
   "metadata": {},
   "source": [
    "What you’ll notice is that cond switches off between a some statement that is executed and checked conditionally for true or falseness, and then a bit of code to execute if it turns out to be true. You’ll also notice that the “else” is implemented at the end simply by checking for “true”... that’s because true will always be true, so if we get this far, we’ll always run that one!\n",
    "\n",
    "You might notice above that if you have code like:"
   ]
  },
  {
   "cell_type": "code",
   "execution_count": 21,
   "metadata": {
    "collapsed": false
   },
   "outputs": [
    {
     "name": "stderr",
     "output_type": "stream",
     "text": [
      "\u001b[0;31mTraceback (most recent call last):\n",
      "  File \"/home/dblank/calysto_hy/calysto_hy/kernel.py\", line 84, in do_execute_direct\n",
      "    eval(code, self.env)\n",
      "  File \"In [21]\", line 1, in <module>\n",
      "NameError: name 'some_condition' is not defined\n",
      "\n",
      "\u001b[0m"
     ]
    }
   ],
   "source": [
    "(if some-condition\n",
    "  (body-if-true)\n",
    "  (body-if-false))"
   ]
  },
  {
   "cell_type": "markdown",
   "metadata": {},
   "source": [
    "But wait! What if you want to execute more than one statement in the body of one of these?\n",
    "\n",
    "You can do the following:"
   ]
  },
  {
   "cell_type": "code",
   "execution_count": 22,
   "metadata": {
    "collapsed": false
   },
   "outputs": [
    {
     "name": "stderr",
     "output_type": "stream",
     "text": [
      "\u001b[0;31mTraceback (most recent call last):\n",
      "  File \"/home/dblank/calysto_hy/calysto_hy/kernel.py\", line 84, in do_execute_direct\n",
      "    eval(code, self.env)\n",
      "  File \"In [22]\", line 1, in <module>\n",
      "NameError: name 'try_some_thing' is not defined\n",
      "\n",
      "\u001b[0m"
     ]
    }
   ],
   "source": [
    "(if (try-some-thing)\n",
    "  (do\n",
    "    (print \"this is if true\")\n",
    "    (print \"and why not, let's keep talking about how true it is!\"))\n",
    "  (print \"this one's still simply just false\"))"
   ]
  },
  {
   "cell_type": "markdown",
   "metadata": {},
   "source": [
    "You can see that we used “do” to wrap multiple statements. If you’re familiar with other lisps, this is the equivalent of “progn” elsewhere.\n",
    "\n",
    "Comments start with semicolons:"
   ]
  },
  {
   "cell_type": "code",
   "execution_count": 23,
   "metadata": {
    "collapsed": false
   },
   "outputs": [
    {
     "name": "stdout",
     "output_type": "stream",
     "text": [
      "this will run\n"
     ]
    },
    {
     "data": {
      "text/plain": [
       "6"
      ]
     },
     "execution_count": 23,
     "metadata": {},
     "output_type": "execute_result"
    }
   ],
   "source": [
    "(print \"this will run\")\n",
    "; (print \"but this will not\")\n",
    "(+ 1 2 3)  ; we'll execute the addition, but not this comment!"
   ]
  },
  {
   "cell_type": "markdown",
   "metadata": {},
   "source": [
    "Looping is not hard but has a kind of special structure. In python, we might do:\n",
    "\n",
    "```python\n",
    "for i in range(10):\n",
    "    print \"'i' is now at \" + str(i)\n",
    "```\n",
    "\n",
    "The equivalent in hy would be:"
   ]
  },
  {
   "cell_type": "code",
   "execution_count": 24,
   "metadata": {
    "collapsed": false
   },
   "outputs": [
    {
     "name": "stdout",
     "output_type": "stream",
     "text": [
      "'i' is now at 0\n",
      "'i' is now at 1\n",
      "'i' is now at 2\n",
      "'i' is now at 3\n",
      "'i' is now at 4\n",
      "'i' is now at 5\n",
      "'i' is now at 6\n",
      "'i' is now at 7\n",
      "'i' is now at 8\n",
      "'i' is now at 9\n"
     ]
    }
   ],
   "source": [
    "(for [i (range 10)]\n",
    "  (print (+ \"'i' is now at \" (str i))))"
   ]
  },
  {
   "cell_type": "markdown",
   "metadata": {},
   "source": [
    "You can also import and make use of various python libraries. For example:"
   ]
  },
  {
   "cell_type": "code",
   "execution_count": 25,
   "metadata": {
    "collapsed": false
   },
   "outputs": [
    {
     "name": "stdout",
     "output_type": "stream",
     "text": [
      "Hey, that path isn't there!\n"
     ]
    }
   ],
   "source": [
    "(import os)\n",
    "\n",
    "(if (os.path.isdir \"/tmp/somedir\")\n",
    "  (os.mkdir \"/tmp/somedir/anotherdir\")\n",
    "  (print \"Hey, that path isn't there!\"))"
   ]
  },
  {
   "cell_type": "markdown",
   "metadata": {},
   "source": [
    "Python’s context managers (‘with’ statements) are used like this:"
   ]
  },
  {
   "cell_type": "code",
   "execution_count": 26,
   "metadata": {
    "collapsed": false
   },
   "outputs": [
    {
     "name": "stderr",
     "output_type": "stream",
     "text": [
      "\u001b[0;31mTraceback (most recent call last):\n",
      "  File \"/home/dblank/calysto_hy/calysto_hy/kernel.py\", line 84, in do_execute_direct\n",
      "    eval(code, self.env)\n",
      "  File \"In [26]\", line 1, in <module>\n",
      "FileNotFoundError: [Errno 2] No such file or directory: '/tmp/data.in'\n",
      "\n",
      "\u001b[0m"
     ]
    }
   ],
   "source": [
    "(with [[f (open \"/tmp/data.in\")]]\n",
    "  (print (.read f)))"
   ]
  },
  {
   "cell_type": "markdown",
   "metadata": {},
   "source": [
    "which is equivalent to:\n",
    "\n",
    "```python\n",
    "with open(\"/tmp/data.in\") as f:\n",
    "    print f.read()\n",
    "```\n",
    "\n",
    "And yes, we do have lisp comprehensions! In Python you might do:\n",
    "\n",
    "```python\n",
    "odds_squared = [\n",
    "  pow(num, 2)\n",
    "  for num in range(100)\n",
    "  if num % 2 == 1]\n",
    "```\n",
    "\n",
    "In hy, you could do these like:"
   ]
  },
  {
   "cell_type": "code",
   "execution_count": 27,
   "metadata": {
    "collapsed": false
   },
   "outputs": [
    {
     "data": {
      "text/plain": [
       "[(0, 'A'), (0, 'B'), (0, 'C'), (0, 'D'), (0, 'E'), (0, 'F'), (0, 'G'), (0, 'H'), (1, 'A'), (1, 'B'), (1, 'C'), (1, 'D'), (1, 'E'), (1, 'F'), (1, 'G'), (1, 'H'), (2, 'A'), (2, 'B'), (2, 'C'), (2, 'D'), (2, 'E'), (2, 'F'), (2, 'G'), (2, 'H'), (3, 'A'), (3, 'B'), (3, 'C'), (3, 'D'), (3, 'E'), (3, 'F'), (3, 'G'), (3, 'H'), (4, 'A'), (4, 'B'), (4, 'C'), (4, 'D'), (4, 'E'), (4, 'F'), (4, 'G'), (4, 'H'), (5, 'A'), (5, 'B'), (5, 'C'), (5, 'D'), (5, 'E'), (5, 'F'), (5, 'G'), (5, 'H'), (6, 'A'), (6, 'B'), (6, 'C'), (6, 'D'), (6, 'E'), (6, 'F'), (6, 'G'), (6, 'H'), (7, 'A'), (7, 'B'), (7, 'C'), (7, 'D'), (7, 'E'), (7, 'F'), (7, 'G'), (7, 'H')]"
      ]
     },
     "execution_count": 27,
     "metadata": {},
     "output_type": "execute_result"
    }
   ],
   "source": [
    "(setv odds-squared\n",
    "  (list-comp\n",
    "    (pow num 2)\n",
    "    (num (range 100))\n",
    "    (= (% num 2) 1)))\n",
    "\n",
    "; And, an example stolen shamelessly from a Clojure page:\n",
    "; Let's list all the blocks of a Chessboard:\n",
    "\n",
    "(list-comp\n",
    "  (, x y)\n",
    "  (x (range 8)\n",
    "   y \"ABCDEFGH\"))"
   ]
  },
  {
   "cell_type": "markdown",
   "metadata": {},
   "source": [
    "Python has support for various fancy argument and keyword arguments. In python we might see:\n",
    "\n",
    "```python\n",
    ">>> def optional_arg(pos1, pos2, keyword1=None, keyword2=42):\n",
    "...   return [pos1, pos2, keyword1, keyword2]\n",
    "...\n",
    ">>> optional_arg(1, 2)\n",
    "[1, 2, None, 42]\n",
    ">>> optional_arg(1, 2, 3, 4)\n",
    "[1, 2, 3, 4]\n",
    ">>> optional_arg(keyword1=1, pos2=2, pos1=3, keyword2=4)\n",
    "[3, 2, 1, 4]\n",
    "```\n",
    "\n",
    "The same thing in Hy:"
   ]
  },
  {
   "cell_type": "code",
   "execution_count": 28,
   "metadata": {
    "collapsed": true
   },
   "outputs": [],
   "source": [
    "(defn optional_arg [pos1 pos2 &optional keyword1 [keyword2 42]]\n",
    "     [pos1 pos2 keyword1 keyword2])"
   ]
  },
  {
   "cell_type": "code",
   "execution_count": 29,
   "metadata": {
    "collapsed": false
   },
   "outputs": [
    {
     "data": {
      "text/plain": [
       "[1, 2, None, 42]"
      ]
     },
     "execution_count": 29,
     "metadata": {},
     "output_type": "execute_result"
    }
   ],
   "source": [
    "(optional_arg 1 2)"
   ]
  },
  {
   "cell_type": "code",
   "execution_count": 30,
   "metadata": {
    "collapsed": false
   },
   "outputs": [
    {
     "data": {
      "text/plain": [
       "[1, 2, 3, 4]"
      ]
     },
     "execution_count": 30,
     "metadata": {},
     "output_type": "execute_result"
    }
   ],
   "source": [
    "(optional_arg 1 2 3 4)"
   ]
  },
  {
   "cell_type": "code",
   "execution_count": 31,
   "metadata": {
    "collapsed": false
   },
   "outputs": [
    {
     "data": {
      "text/plain": [
       "[3, 2, 1, 4]"
      ]
     },
     "execution_count": 31,
     "metadata": {},
     "output_type": "execute_result"
    }
   ],
   "source": [
    "(apply optional_arg []\n",
    "    {\"keyword1\" 1\n",
    "     \"pos2\" 2\n",
    "     \"pos1\" 3\n",
    "     \"keyword2\" 4})"
   ]
  },
  {
   "cell_type": "markdown",
   "metadata": {},
   "source": [
    "See how we use apply to handle the fancy passing? :)\n",
    "\n",
    "There’s also a dictionary-style keyword arguments construction that looks like:"
   ]
  },
  {
   "cell_type": "code",
   "execution_count": 32,
   "metadata": {
    "collapsed": true
   },
   "outputs": [],
   "source": [
    "(defn another_style [&key {\"key1\" \"val1\" \"key2\" \"val2\"}]\n",
    "  [key1 key2])"
   ]
  },
  {
   "cell_type": "markdown",
   "metadata": {},
   "source": [
    "The difference here is that since it’s a dictionary, you can’t rely on any specific ordering to the arguments.\n",
    "\n",
    "Hy also supports `*args` and `**kwargs`. In Python:\n",
    "\n",
    "```python\n",
    "def some_func(foo, bar, *args, **kwargs):\n",
    "  import pprint\n",
    "  pprint.pprint((foo, bar, args, kwargs))\n",
    "```"
   ]
  },
  {
   "cell_type": "markdown",
   "metadata": {},
   "source": [
    "The Hy equivalent:"
   ]
  },
  {
   "cell_type": "code",
   "execution_count": 33,
   "metadata": {
    "collapsed": true
   },
   "outputs": [],
   "source": [
    "(defn some_func [foo bar &rest args &kwargs kwargs]\n",
    "  (import pprint)\n",
    "  (pprint.pprint (, foo bar args kwargs)))"
   ]
  },
  {
   "cell_type": "markdown",
   "metadata": {},
   "source": [
    "Finally, of course we need classes! In python we might have a class like:\n",
    "\n",
    "```python\n",
    "class FooBar(object):\n",
    "    \"\"\"\n",
    "    Yet Another Example Class\n",
    "    \"\"\"\n",
    "    def __init__(self, x):\n",
    "        self.x = x\n",
    "\n",
    "    def get_x(self):\n",
    "        \"\"\"\n",
    "        Return our copy of x\n",
    "        \"\"\"\n",
    "        return self.x\n",
    "```\n",
    "\n",
    "In Hy:"
   ]
  },
  {
   "cell_type": "code",
   "execution_count": 34,
   "metadata": {
    "collapsed": true
   },
   "outputs": [],
   "source": [
    "(defclass FooBar [object]\n",
    "  \"Yet Another Example Class\"\n",
    "  [[--init--\n",
    "    (fn [self x]\n",
    "      (setv self.x x)\n",
    "      ; Currently needed for --init-- because __init__ needs None\n",
    "      ; Hopefully this will go away :)\n",
    "      None)]\n",
    "\n",
    "   [get-x\n",
    "    (fn [self]\n",
    "      \"Return our copy of x\"\n",
    "      self.x)]])"
   ]
  },
  {
   "cell_type": "markdown",
   "metadata": {},
   "source": [
    "You can also do class-level attributes. In Python:\n",
    "\n",
    "```python\n",
    "class Customer(models.Model):\n",
    "    name = models.CharField(max_length=255)\n",
    "    address = models.TextField()\n",
    "    notes = models.TextField()\n",
    "```\n",
    "\n",
    "In Hy:"
   ]
  },
  {
   "cell_type": "code",
   "execution_count": 35,
   "metadata": {
    "collapsed": false
   },
   "outputs": [
    {
     "name": "stderr",
     "output_type": "stream",
     "text": [
      "\u001b[0;31mTraceback (most recent call last):\n",
      "  File \"/home/dblank/calysto_hy/calysto_hy/kernel.py\", line 84, in do_execute_direct\n",
      "    eval(code, self.env)\n",
      "  File \"In [35]\", line 1, in <module>\n",
      "NameError: name 'models' is not defined\n",
      "\n",
      "\u001b[0m"
     ]
    }
   ],
   "source": [
    "(defclass Customer [models.Model]\n",
    "  [[name (apply models.CharField [] {\"max_length\" 255})]\n",
    "   [address (models.TextField)]\n",
    "   [notes (models.TextField)]])"
   ]
  },
  {
   "cell_type": "markdown",
   "metadata": {},
   "source": [
    "## Protips!"
   ]
  },
  {
   "cell_type": "markdown",
   "metadata": {},
   "source": [
    "Hy also features something known as the “threading macro”, a really neat feature of Clojure’s. The “threading macro” (written as “->”), is used to avoid deep nesting of expressions.\n",
    "\n",
    "The threading macro inserts each expression into the next expression’s first argument place.\n",
    "\n",
    "Let’s take the classic:"
   ]
  },
  {
   "cell_type": "code",
   "execution_count": 36,
   "metadata": {
    "collapsed": false
   },
   "outputs": [
    {
     "name": "stderr",
     "output_type": "stream",
     "text": [
      "\u001b[0;31mTraceback (most recent call last):\n",
      "  File \"/home/dblank/calysto_hy/calysto_hy/kernel.py\", line 84, in do_execute_direct\n",
      "    eval(code, self.env)\n",
      "  File \"In [36]\", line 1, in <module>\n",
      "NameError: name 'loop' is not defined\n",
      "\n",
      "\u001b[0m"
     ]
    }
   ],
   "source": [
    "(loop (print (eval (read))))"
   ]
  },
  {
   "cell_type": "markdown",
   "metadata": {},
   "source": [
    "Rather than write it like that, we can write it as follows:"
   ]
  },
  {
   "cell_type": "code",
   "execution_count": 37,
   "metadata": {
    "collapsed": false
   },
   "outputs": [
    {
     "name": "stderr",
     "output_type": "stream",
     "text": [
      "\u001b[0;31mTraceback (most recent call last):\n",
      "  File \"/home/dblank/calysto_hy/calysto_hy/kernel.py\", line 84, in do_execute_direct\n",
      "    eval(code, self.env)\n",
      "  File \"In [37]\", line 1, in <module>\n",
      "NameError: name 'loop' is not defined\n",
      "\n",
      "\u001b[0m"
     ]
    }
   ],
   "source": [
    "(-> (read) (eval) (print) (loop))"
   ]
  },
  {
   "cell_type": "markdown",
   "metadata": {},
   "source": [
    "Now, using [python-sh](http://amoffat.github.com/sh/), we can show how the threading macro (because of python-sh’s setup) can be used like a pipe:"
   ]
  },
  {
   "cell_type": "code",
   "execution_count": 40,
   "metadata": {
    "collapsed": false
   },
   "outputs": [
    {
     "data": {
      "text/plain": [
       "210\n"
      ]
     },
     "execution_count": 40,
     "metadata": {},
     "output_type": "execute_result"
    }
   ],
   "source": [
    "(import [sh [cat grep wc]])\n",
    "(-> (cat \"/usr/share/dict/words\") (grep \"-E\" \"^hy\") (wc \"-l\"))"
   ]
  },
  {
   "cell_type": "markdown",
   "metadata": {},
   "source": [
    "Which, of course, expands out to:"
   ]
  },
  {
   "cell_type": "code",
   "execution_count": 41,
   "metadata": {
    "collapsed": false
   },
   "outputs": [
    {
     "data": {
      "text/plain": [
       "210\n"
      ]
     },
     "execution_count": 41,
     "metadata": {},
     "output_type": "execute_result"
    }
   ],
   "source": [
    "(wc (grep (cat \"/usr/share/dict/words\") \"-E\" \"^hy\") \"-l\")"
   ]
  },
  {
   "cell_type": "markdown",
   "metadata": {},
   "source": [
    "Much more readable, no? Use the threading macro!"
   ]
  },
  {
   "cell_type": "code",
   "execution_count": 9,
   "metadata": {
    "collapsed": false
   },
   "outputs": [
    {
     "name": "stdout",
     "output_type": "stream",
     "text": [
      "120\n"
     ]
    }
   ],
   "source": [
    "(defn fact [n]\n",
    "    (if (= n 1)\n",
    "        1\n",
    "        (* n (fact (- n 1)))))\n",
    "\n",
    "(print (fact 5))"
   ]
  },
  {
   "cell_type": "markdown",
   "metadata": {},
   "source": [
    "## Calysto Hy\n",
    "\n",
    "Calysto Hy is derived from MetKernel, and so has a complete set of Jupyter tools.\n",
    "\n",
    "### Latex symbols\n",
    "\n",
    "You can type `\\alpha` (or any number of Latex names) followed by TAB to expand into the alpha unicode character:"
   ]
  },
  {
   "cell_type": "code",
   "execution_count": 1,
   "metadata": {
    "collapsed": true
   },
   "outputs": [],
   "source": [
    "(setv π 3.14)  ;; \\pi"
   ]
  },
  {
   "cell_type": "code",
   "execution_count": 2,
   "metadata": {
    "collapsed": false
   },
   "outputs": [
    {
     "data": {
      "text/plain": [
       "3.14"
      ]
     },
     "execution_count": 2,
     "metadata": {},
     "output_type": "execute_result"
    }
   ],
   "source": [
    "π"
   ]
  },
  {
   "cell_type": "markdown",
   "metadata": {},
   "source": [
    "### Magics"
   ]
  },
  {
   "cell_type": "code",
   "execution_count": 1,
   "metadata": {
    "collapsed": false
   },
   "outputs": [
    {
     "name": "stdout",
     "output_type": "stream",
     "text": [
      "Available line magics:\n",
      "%activity  %cd  %connect_info  %conversation  %dot  %download  %edit  %get  %help  %html  %include  %install  %install_magic  %javascript  %jigsaw  %kernel  %kx  %latex  %load  %ls  %lsmagic  %macro  %magic  %matplotlib  %parallel  %plot  %pmap  %px  %python  %reload_magics  %restart  %run  %scheme  %set  %shell\n",
      "\n",
      "Available cell magics:\n",
      "%%activity  %%brain  %%conversation  %%debug  %%dot  %%file  %%help  %%html  %%javascript  %%kx  %%latex  %%macro  %%processing  %%px  %%python  %%scheme  %%shell  %%show  %%simulation  %%time  %%tutor\n"
     ]
    }
   ],
   "source": [
    "%lsmagic"
   ]
  },
  {
   "cell_type": "markdown",
   "metadata": {},
   "source": [
    "### Shell"
   ]
  },
  {
   "cell_type": "code",
   "execution_count": 15,
   "metadata": {
    "collapsed": false
   },
   "outputs": [
    {
     "name": "stdout",
     "output_type": "stream",
     "text": [
      "activity3  activity3.results  datastructures01\tdatastructures01.results\n",
      "/home/dblank/calysto_hy/notebooks\n",
      "activity3  activity3.results  datastructures01\tdatastructures01.results\n"
     ]
    }
   ],
   "source": [
    "! ls /home/dblank/activities"
   ]
  },
  {
   "cell_type": "markdown",
   "metadata": {},
   "source": [
    "### Hy as Magic in other Languages"
   ]
  },
  {
   "cell_type": "code",
   "execution_count": 3,
   "metadata": {
    "collapsed": false
   },
   "outputs": [
    {
     "data": {
      "text/plain": [
       "<calysto_hy.kernel.CalystoHy object at 0x7f47806dee80>"
      ]
     },
     "execution_count": 3,
     "metadata": {},
     "output_type": "execute_result"
    }
   ],
   "source": [
    "%kernel calysto_hy CalystoHy"
   ]
  },
  {
   "cell_type": "code",
   "execution_count": 4,
   "metadata": {
    "collapsed": false
   },
   "outputs": [
    {
     "name": "stdout",
     "output_type": "stream",
     "text": [
      "120\n"
     ]
    }
   ],
   "source": [
    "%%kx\n",
    "\n",
    "(defn fact [n]\n",
    "    (if (= n 1)\n",
    "        1\n",
    "        (* n (fact (- n 1)))))\n",
    "\n",
    "(print (fact 5))"
   ]
  },
  {
   "cell_type": "markdown",
   "metadata": {},
   "source": [
    "### Parallel Processing"
   ]
  },
  {
   "cell_type": "code",
   "execution_count": 9,
   "metadata": {
    "collapsed": false
   },
   "outputs": [],
   "source": [
    "%parallel calysto_scheme CalystoScheme"
   ]
  },
  {
   "cell_type": "code",
   "execution_count": 10,
   "metadata": {
    "collapsed": false
   },
   "outputs": [
    {
     "data": {
      "text/plain": [
       "[11, 11]"
      ]
     },
     "execution_count": 10,
     "metadata": {},
     "output_type": "execute_result"
    }
   ],
   "source": [
    "%%px \n",
    "\n",
    "(+ 5 6)"
   ]
  }
 ],
 "metadata": {
  "kernelspec": {
   "display_name": "Calysto Hy",
   "language": "hy",
   "name": "calysto_hy"
  },
  "language_info": {
   "codemirror_mode": {
    "name": "scheme"
   },
   "mimetype": "text/x-hylang",
   "name": "hy",
   "pygments_lexer": "lisp"
  }
 },
 "nbformat": 4,
 "nbformat_minor": 1
}
